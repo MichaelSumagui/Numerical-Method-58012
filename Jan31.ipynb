{
  "nbformat": 4,
  "nbformat_minor": 0,
  "metadata": {
    "colab": {
      "name": "Jan31.ipynb",
      "provenance": [],
      "include_colab_link": true
    },
    "kernelspec": {
      "name": "python3",
      "display_name": "Python 3"
    },
    "language_info": {
      "name": "python"
    }
  },
  "cells": [
    {
      "cell_type": "markdown",
      "metadata": {
        "id": "view-in-github",
        "colab_type": "text"
      },
      "source": [
        "<a href=\"https://colab.research.google.com/github/MichaelSumagui/Numerical-Method-58012/blob/main/Jan31.ipynb\" target=\"_parent\"><img src=\"https://colab.research.google.com/assets/colab-badge.svg\" alt=\"Open In Colab\"/></a>"
      ]
    },
    {
      "cell_type": "code",
      "execution_count": null,
      "metadata": {
        "colab": {
          "base_uri": "https://localhost:8080/"
        },
        "id": "XE-W1NAfX50I",
        "outputId": "a710505d-fdd2-432b-ce76-a635b04a8485"
      },
      "outputs": [
        {
          "output_type": "stream",
          "name": "stdout",
          "text": [
            "True\n",
            "False\n",
            "False\n"
          ]
        }
      ],
      "source": [
        "print (10>9)\n",
        "print (10<9)\n",
        "print (10==9)"
      ]
    },
    {
      "cell_type": "code",
      "source": [
        "a = 10\n",
        "b = 9\n",
        "\n",
        "print (a>b)\n",
        "print (a<b)\n",
        "print (a==b)"
      ],
      "metadata": {
        "colab": {
          "base_uri": "https://localhost:8080/"
        },
        "id": "aPPSfj7uYqUD",
        "outputId": "df05c741-21a3-486e-cd17-5c0cc749317b"
      },
      "execution_count": null,
      "outputs": [
        {
          "output_type": "stream",
          "name": "stdout",
          "text": [
            "True\n",
            "False\n",
            "False\n"
          ]
        }
      ]
    },
    {
      "cell_type": "markdown",
      "source": [
        "Bool () Function\n"
      ],
      "metadata": {
        "id": "bjKaS-o7Y7Dv"
      }
    },
    {
      "cell_type": "code",
      "source": [
        "print (bool(1))\n",
        "print (bool(0))\n",
        "print (bool(\"Michael\"))\n",
        "print (bool(None))\n",
        "print (bool(0))"
      ],
      "metadata": {
        "colab": {
          "base_uri": "https://localhost:8080/"
        },
        "id": "a7_v8TLHY9nX",
        "outputId": "b1acb8ef-f41e-49bc-f4d7-71d350f5e6a3"
      },
      "execution_count": null,
      "outputs": [
        {
          "output_type": "stream",
          "name": "stdout",
          "text": [
            "True\n",
            "False\n",
            "True\n",
            "False\n",
            "False\n"
          ]
        }
      ]
    },
    {
      "cell_type": "code",
      "source": [
        "def my_Function():\n",
        "  return True\n",
        "\n",
        "  if my_Function():\n",
        "    print (\"Yes\")\n",
        "  else:\n",
        "    print (\"No\")\n",
        "\n",
        "print (my_Function())\n"
      ],
      "metadata": {
        "colab": {
          "base_uri": "https://localhost:8080/"
        },
        "id": "8SjnZZa5ZyuJ",
        "outputId": "32453698-da8c-47ee-8665-4e495e460b16"
      },
      "execution_count": null,
      "outputs": [
        {
          "output_type": "stream",
          "name": "stdout",
          "text": [
            "True\n"
          ]
        }
      ]
    },
    {
      "cell_type": "code",
      "source": [
        "print (10>9)\n",
        "\n",
        "a=6\n",
        "b=7\n",
        "\n",
        "print (a==b)\n",
        "print (a!=a)"
      ],
      "metadata": {
        "colab": {
          "base_uri": "https://localhost:8080/"
        },
        "id": "CHoYoG1fflEu",
        "outputId": "9a741dd9-d8aa-4559-b0c7-acb925c0dc8f"
      },
      "execution_count": null,
      "outputs": [
        {
          "output_type": "stream",
          "name": "stdout",
          "text": [
            "True\n",
            "False\n",
            "False\n"
          ]
        }
      ]
    },
    {
      "cell_type": "code",
      "source": [
        "print (10+5)\n",
        "print (10-5)\n",
        "print (10*5)\n",
        "print (10/5)\n",
        "print (10%5)\n",
        "print (10//5)\n",
        "print (10**5)"
      ],
      "metadata": {
        "colab": {
          "base_uri": "https://localhost:8080/"
        },
        "id": "lF0FmpwLfw8s",
        "outputId": "271cbc0f-2059-4a8a-922b-7d1d14cddf1a"
      },
      "execution_count": null,
      "outputs": [
        {
          "output_type": "stream",
          "name": "stdout",
          "text": [
            "15\n",
            "5\n",
            "50\n",
            "2.0\n",
            "0\n",
            "2\n",
            "100000\n"
          ]
        }
      ]
    },
    {
      "cell_type": "code",
      "source": [
        "print (2+5)\n",
        "print (2-5)\n",
        "print (2*5)\n",
        "print (5/2)\n",
        "print (5//2)\n",
        "print (5**2)"
      ],
      "metadata": {
        "id": "T7CjBsq0v-gp",
        "outputId": "bf4fcf61-59db-49ee-a264-e1a957fe9313",
        "colab": {
          "base_uri": "https://localhost:8080/"
        }
      },
      "execution_count": null,
      "outputs": [
        {
          "output_type": "stream",
          "name": "stdout",
          "text": [
            "7\n",
            "-3\n",
            "10\n",
            "2.5\n",
            "2\n",
            "25\n"
          ]
        }
      ]
    },
    {
      "cell_type": "code",
      "source": [
        "a = 60\n",
        "b = 13\n",
        "print (a&b)\n",
        "print (a|b)\n",
        "print (a^b)"
      ],
      "metadata": {
        "id": "TKuu1wZkwGOJ",
        "outputId": "575b0916-0681-4717-b231-eeb36d2b649e",
        "colab": {
          "base_uri": "https://localhost:8080/"
        }
      },
      "execution_count": null,
      "outputs": [
        {
          "output_type": "stream",
          "name": "stdout",
          "text": [
            "12\n",
            "61\n",
            "49\n"
          ]
        }
      ]
    },
    {
      "cell_type": "code",
      "source": [
        "a += 3 \n",
        "print (a)"
      ],
      "metadata": {
        "id": "fXdEti6KwG2b",
        "outputId": "7406cf20-09fc-4f7a-be65-6fa6b5d9550b",
        "colab": {
          "base_uri": "https://localhost:8080/"
        }
      },
      "execution_count": null,
      "outputs": [
        {
          "output_type": "stream",
          "name": "stdout",
          "text": [
            "63\n"
          ]
        }
      ]
    },
    {
      "cell_type": "code",
      "source": [
        "x = True\n",
        "y = False\n",
        "\n",
        "print (x and y)\n",
        "print (x or y)\n",
        "not (print(x and y))"
      ],
      "metadata": {
        "id": "MRQR_5AHwKBR",
        "outputId": "d9eaf8b4-8b93-4142-94e7-7eaf20fc78a7",
        "colab": {
          "base_uri": "https://localhost:8080/"
        }
      },
      "execution_count": null,
      "outputs": [
        {
          "output_type": "stream",
          "name": "stdout",
          "text": [
            "False\n",
            "True\n",
            "False\n"
          ]
        },
        {
          "output_type": "execute_result",
          "data": {
            "text/plain": [
              "True"
            ]
          },
          "metadata": {},
          "execution_count": 4
        }
      ]
    },
    {
      "cell_type": "code",
      "source": [
        "print (x is y)\n",
        "print (x is x)\n",
        "\n",
        "print (x is not y)"
      ],
      "metadata": {
        "id": "zYABsbRMwPFA",
        "outputId": "1c55848e-0f42-419f-91e3-f695b96d4f5c",
        "colab": {
          "base_uri": "https://localhost:8080/"
        }
      },
      "execution_count": null,
      "outputs": [
        {
          "output_type": "stream",
          "name": "stdout",
          "text": [
            "False\n",
            "True\n",
            "True\n"
          ]
        }
      ]
    },
    {
      "cell_type": "markdown",
      "source": [
        "If\n"
      ],
      "metadata": {
        "id": "dNjFDgo-rZ0I"
      }
    },
    {
      "cell_type": "code",
      "source": [
        "a = 12\n",
        "b = 100\n",
        "\n",
        "if b > a:\n",
        "    print (\"b is greater than a\")"
      ],
      "metadata": {
        "id": "Hc0-wwbepGI1",
        "outputId": "40dce9cb-a13c-4022-f682-d36a0a15ca4a",
        "colab": {
          "base_uri": "https://localhost:8080/"
        }
      },
      "execution_count": 2,
      "outputs": [
        {
          "output_type": "stream",
          "name": "stdout",
          "text": [
            "b is greater than a\n"
          ]
        }
      ]
    },
    {
      "cell_type": "markdown",
      "source": [
        "Elif"
      ],
      "metadata": {
        "id": "i89gtOhqrYVx"
      }
    },
    {
      "cell_type": "code",
      "source": [
        "a = 100\n",
        "b = 10\n",
        "\n",
        "if b > a:\n",
        "  print (\"b is greater than a\")\n",
        "elif b == a:\n",
        "  print (\"a and b are equal\")"
      ],
      "metadata": {
        "id": "6xPqGU6uq5Sv"
      },
      "execution_count": 5,
      "outputs": []
    },
    {
      "cell_type": "markdown",
      "source": [
        "Else"
      ],
      "metadata": {
        "id": "4hvsJoiWrVc4"
      }
    },
    {
      "cell_type": "code",
      "source": [
        "if b > a:\n",
        "  print (\"b is greater than a\")\n",
        "elif b == a:\n",
        "  print (\"a and b are equal\")\n",
        "else:\n",
        "  print (\"a is greater than b\")"
      ],
      "metadata": {
        "id": "kYWSEWcdrHlo",
        "outputId": "68c18959-6c88-4f11-b160-5bf35a292f1f",
        "colab": {
          "base_uri": "https://localhost:8080/"
        }
      },
      "execution_count": 6,
      "outputs": [
        {
          "output_type": "stream",
          "name": "stdout",
          "text": [
            "a is greater than b\n"
          ]
        }
      ]
    },
    {
      "cell_type": "markdown",
      "source": [
        "Short hand if statement"
      ],
      "metadata": {
        "id": "TkHpzLttrfW6"
      }
    },
    {
      "cell_type": "code",
      "source": [
        "if a > b: print (\"a is greater than b\")"
      ],
      "metadata": {
        "id": "sWi4VEJKrg1H",
        "outputId": "7909c731-16ff-49fd-f350-7a74e2ea9973",
        "colab": {
          "base_uri": "https://localhost:8080/"
        }
      },
      "execution_count": 7,
      "outputs": [
        {
          "output_type": "stream",
          "name": "stdout",
          "text": [
            "a is greater than b\n"
          ]
        }
      ]
    },
    {
      "cell_type": "markdown",
      "source": [
        "Short hand if else"
      ],
      "metadata": {
        "id": "tpHLfHQTrtE0"
      }
    },
    {
      "cell_type": "code",
      "source": [
        "print (\"b is greater than a\") if b > a else print (\"a is greater than b\")"
      ],
      "metadata": {
        "id": "lj0MU0_uru5E",
        "outputId": "dd2bc2b5-856c-4d45-ca47-5efc4a8241ff",
        "colab": {
          "base_uri": "https://localhost:8080/"
        }
      },
      "execution_count": 8,
      "outputs": [
        {
          "output_type": "stream",
          "name": "stdout",
          "text": [
            "a is greater than b\n"
          ]
        }
      ]
    },
    {
      "cell_type": "markdown",
      "source": [
        "And if both conditions are true "
      ],
      "metadata": {
        "id": "gpNPPG36sRtd"
      }
    },
    {
      "cell_type": "code",
      "source": [
        "a = 100\n",
        "b = 10\n",
        "c = 45\n",
        "\n",
        "if a > b and c > b:\n",
        "  print (\"both conditions are true\")"
      ],
      "metadata": {
        "id": "1Js-D7risTuL",
        "outputId": "bc2cb8ec-016f-454e-9d57-0d2d2449fabc",
        "colab": {
          "base_uri": "https://localhost:8080/"
        }
      },
      "execution_count": 9,
      "outputs": [
        {
          "output_type": "stream",
          "name": "stdout",
          "text": [
            "both conditions are true\n"
          ]
        }
      ]
    },
    {
      "cell_type": "markdown",
      "source": [
        "Or if both conditions is true "
      ],
      "metadata": {
        "id": "hqquAsgzsjXS"
      }
    },
    {
      "cell_type": "code",
      "source": [
        "if a > b or b > c:\n",
        "  print (\"one condition is true\")"
      ],
      "metadata": {
        "id": "zFOrwAEssndL",
        "outputId": "8c6e3682-baad-47fe-dd49-58eadbf1c2af",
        "colab": {
          "base_uri": "https://localhost:8080/"
        }
      },
      "execution_count": 10,
      "outputs": [
        {
          "output_type": "stream",
          "name": "stdout",
          "text": [
            "one condition is true\n"
          ]
        }
      ]
    },
    {
      "cell_type": "markdown",
      "source": [
        "Nested if"
      ],
      "metadata": {
        "id": "2X4ZtWAUtIgF"
      }
    },
    {
      "cell_type": "code",
      "source": [
        "x = int(input())\n",
        "\n",
        "if x > 10:\n",
        "  print (\"x is above 10\")\n",
        "  if x > 20:\n",
        "    print (\"x is above 20\")\n",
        "    if x > 30:\n",
        "      print (\"x is above 30\")\n",
        "      if x > 40:\n",
        "        print (\"x is above 40\")\n",
        "        if x > 50:\n",
        "          print (\"x is above 50\")\n",
        "        else:\n",
        "          print (\"x is below 50\")\n",
        "else:\n",
        "  print (\"x is below 19\")"
      ],
      "metadata": {
        "id": "mDUZJK-3tJc2",
        "outputId": "3f8f22a0-1f0a-4d95-d684-fd38cbc35914",
        "colab": {
          "base_uri": "https://localhost:8080/"
        }
      },
      "execution_count": 17,
      "outputs": [
        {
          "output_type": "stream",
          "name": "stdout",
          "text": [
            "60\n",
            "x is above 10\n",
            "x is above 20\n",
            "x is above 30\n",
            "x is above 40\n",
            "x is above 50\n"
          ]
        }
      ]
    },
    {
      "cell_type": "markdown",
      "source": [
        "Application 1"
      ],
      "metadata": {
        "id": "_5RFLYFOud4b"
      }
    },
    {
      "cell_type": "code",
      "source": [
        "age = int(input())\n",
        "\n",
        "if age >= 18:\n",
        "  print (\"you are qualified to vote\")\n",
        "else:\n",
        "  print (\"you are not qualified to vote\")"
      ],
      "metadata": {
        "id": "Z6RdnUWZufHb",
        "outputId": "dee40a6a-77e5-491c-be4e-a534075058c8",
        "colab": {
          "base_uri": "https://localhost:8080/"
        }
      },
      "execution_count": 21,
      "outputs": [
        {
          "output_type": "stream",
          "name": "stdout",
          "text": [
            "19\n",
            "you are qualified to vote\n"
          ]
        }
      ]
    },
    {
      "cell_type": "markdown",
      "source": [
        "Application 2"
      ],
      "metadata": {
        "id": "4z9uhL0wvER7"
      }
    },
    {
      "cell_type": "code",
      "source": [
        "x = int(input())\n",
        "\n",
        "if x > 0:\n",
        "  print (\"x is a positive number\")\n",
        "elif x == 0:\n",
        "  print (\"x is zero\")\n",
        "else:\n",
        "  print (\"x is a negative number\")"
      ],
      "metadata": {
        "id": "XJmhjP7tvAXl",
        "outputId": "2b16bb8b-f611-476b-c31c-561c3e2de606",
        "colab": {
          "base_uri": "https://localhost:8080/"
        }
      },
      "execution_count": 25,
      "outputs": [
        {
          "output_type": "stream",
          "name": "stdout",
          "text": [
            "-9\n",
            "x is a negative number\n"
          ]
        }
      ]
    },
    {
      "cell_type": "markdown",
      "source": [
        "Application 3"
      ],
      "metadata": {
        "id": "XC2fYYbZvif7"
      }
    },
    {
      "cell_type": "code",
      "source": [
        "grade = int(input())\n",
        "\n",
        "if grade >= 70:\n",
        "  print (\"passed\")\n",
        "elif grade >= 64 and grade < 69:\n",
        "    print (\"remedial\")\n",
        "else:\n",
        "  print (\"failed\")\n"
      ],
      "metadata": {
        "id": "GWXpf6SXvj4b",
        "outputId": "14a7504c-dfa1-42ca-bd58-48c3788c4f68",
        "colab": {
          "base_uri": "https://localhost:8080/"
        }
      },
      "execution_count": 69,
      "outputs": [
        {
          "output_type": "stream",
          "name": "stdout",
          "text": [
            "60\n",
            "failed\n"
          ]
        }
      ]
    },
    {
      "cell_type": "markdown",
      "source": [
        "For loop"
      ],
      "metadata": {
        "id": "6L4fRUKrw0ey"
      }
    },
    {
      "cell_type": "code",
      "source": [
        "week = [\"Sunday\",\"Monday\",\"Tuesday\",\"Wednesday\",\"Thursday\",\"Friday\",\"Saturday\"]\n",
        "\n",
        "for x in week:\n",
        "  print (x)"
      ],
      "metadata": {
        "id": "M5Bw_kAbw11D",
        "outputId": "d16550cd-0fa3-4077-f5ab-810491166939",
        "colab": {
          "base_uri": "https://localhost:8080/"
        }
      },
      "execution_count": 41,
      "outputs": [
        {
          "output_type": "stream",
          "name": "stdout",
          "text": [
            "Sunday\n",
            "Monday\n",
            "Tuesday\n",
            "Wednesday\n",
            "Thursday\n",
            "Friday\n",
            "Saturday\n"
          ]
        }
      ]
    },
    {
      "cell_type": "markdown",
      "source": [
        "Break statement"
      ],
      "metadata": {
        "id": "kIp1fWGTxJb0"
      }
    },
    {
      "cell_type": "code",
      "source": [
        "for x in week:\n",
        "  print (x)\n",
        "  if x == \"Friday\":\n",
        "    break"
      ],
      "metadata": {
        "id": "KYb7cP-0xK91",
        "outputId": "f20661a1-5f51-4d1d-ff04-1d235e80f394",
        "colab": {
          "base_uri": "https://localhost:8080/"
        }
      },
      "execution_count": 46,
      "outputs": [
        {
          "output_type": "stream",
          "name": "stdout",
          "text": [
            "Sunday\n",
            "Monday\n",
            "Tuesday\n",
            "Wednesday\n",
            "Thursday\n",
            "Friday\n"
          ]
        }
      ]
    },
    {
      "cell_type": "markdown",
      "source": [
        "Looping through a string"
      ],
      "metadata": {
        "id": "raC2XyO1xxmX"
      }
    },
    {
      "cell_type": "code",
      "source": [
        "for x in \"Week\":\n",
        "  print (x)"
      ],
      "metadata": {
        "id": "wJVNjS6Uxy-z",
        "outputId": "da8a13db-3580-48fd-b139-224a77599fbf",
        "colab": {
          "base_uri": "https://localhost:8080/"
        }
      },
      "execution_count": 51,
      "outputs": [
        {
          "output_type": "stream",
          "name": "stdout",
          "text": [
            "W\n",
            "e\n",
            "e\n",
            "k\n"
          ]
        }
      ]
    },
    {
      "cell_type": "markdown",
      "source": [
        "Range() function"
      ],
      "metadata": {
        "id": "zYFQ9C4bx49E"
      }
    },
    {
      "cell_type": "code",
      "source": [
        "for x in range(6):\n",
        "  print (x)"
      ],
      "metadata": {
        "id": "hkOQ2e65x7SR",
        "outputId": "779c04db-4e69-4a87-db18-0fac2edfccd2",
        "colab": {
          "base_uri": "https://localhost:8080/"
        }
      },
      "execution_count": 57,
      "outputs": [
        {
          "output_type": "stream",
          "name": "stdout",
          "text": [
            "0\n",
            "1\n",
            "2\n",
            "3\n",
            "4\n",
            "5\n"
          ]
        }
      ]
    },
    {
      "cell_type": "code",
      "source": [
        "for x in range(2,6):\n",
        "  print (x)"
      ],
      "metadata": {
        "id": "Xk9v69VryeVG",
        "outputId": "2618c0df-eff3-422a-997c-e0f18d5e9bd2",
        "colab": {
          "base_uri": "https://localhost:8080/"
        }
      },
      "execution_count": 59,
      "outputs": [
        {
          "output_type": "stream",
          "name": "stdout",
          "text": [
            "2\n",
            "3\n",
            "4\n",
            "5\n"
          ]
        }
      ]
    },
    {
      "cell_type": "markdown",
      "source": [
        "While loop"
      ],
      "metadata": {
        "id": "1QDbrrj5y377"
      }
    },
    {
      "cell_type": "code",
      "source": [
        "i = 1\n",
        "while i < 6:\n",
        "  print (i)\n",
        "  i +=1"
      ],
      "metadata": {
        "id": "RE7ygYAKy5XP",
        "outputId": "8d1c5524-c017-4886-8921-95f6b9034e4c",
        "colab": {
          "base_uri": "https://localhost:8080/"
        }
      },
      "execution_count": 63,
      "outputs": [
        {
          "output_type": "stream",
          "name": "stdout",
          "text": [
            "1\n",
            "2\n",
            "3\n",
            "4\n",
            "5\n"
          ]
        }
      ]
    },
    {
      "cell_type": "markdown",
      "source": [
        "The break statement"
      ],
      "metadata": {
        "id": "b-b7XFTUzH7w"
      }
    },
    {
      "cell_type": "code",
      "source": [
        "i = 1\n",
        "while i < 6:\n",
        "  print (i)\n",
        "  if i == 3:\n",
        "    break\n",
        "  i +=1"
      ],
      "metadata": {
        "id": "Nre27ysHzJXK",
        "outputId": "b1e5fed2-2bfd-46e5-ff7e-941e63640855",
        "colab": {
          "base_uri": "https://localhost:8080/"
        }
      },
      "execution_count": 64,
      "outputs": [
        {
          "output_type": "stream",
          "name": "stdout",
          "text": [
            "1\n",
            "2\n",
            "3\n"
          ]
        }
      ]
    },
    {
      "cell_type": "markdown",
      "source": [
        "The continue statement"
      ],
      "metadata": {
        "id": "Nza2_sJYzw5B"
      }
    },
    {
      "cell_type": "code",
      "source": [
        "i = 1\n",
        "\n",
        "while i < 6:\n",
        "  i += 1\n",
        "  if i == 3:\n",
        "    continue\n",
        "  print (i)"
      ],
      "metadata": {
        "id": "C8uJKiQYzyY6",
        "outputId": "e58b37bf-7853-4d94-ad39-5cd9c41737b6",
        "colab": {
          "base_uri": "https://localhost:8080/"
        }
      },
      "execution_count": 73,
      "outputs": [
        {
          "output_type": "stream",
          "name": "stdout",
          "text": [
            "2\n",
            "4\n",
            "5\n",
            "6\n"
          ]
        }
      ]
    }
  ]
}